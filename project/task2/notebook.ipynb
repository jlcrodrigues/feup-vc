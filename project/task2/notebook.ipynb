{
  "cells": [
    {
      "cell_type": "markdown",
      "metadata": {
        "id": "oaU9_sOGzRD1"
      },
      "source": [
        "# Task 2\n",
        "\n",
        "In this class, we will develop a baseline for Task 2 using a subset of the lego dataset. We will model the task as an ordinal classification task."
      ]
    },
    {
      "cell_type": "code",
      "execution_count": null,
      "metadata": {
        "id": "dvfTDUXuzRD9"
      },
      "outputs": [],
      "source": [
        "import matplotlib.pyplot as plt, numpy as np, os, torch, random, cv2\n",
        "from torch import nn\n",
        "from torch.utils.data import DataLoader, Dataset\n",
        "import torch.nn.functional as F\n",
        "from torchvision import transforms, models\n",
        "from sklearn.metrics import accuracy_score, balanced_accuracy_score\n",
        "from tqdm import tqdm\n",
        "import pandas as pd\n",
        "\n",
        "\n",
        "random.seed(42)\n"
      ]
    },
    {
      "cell_type": "markdown",
      "metadata": {
        "id": "NCiAkFspd8US"
      },
      "source": [
        "### Connect Colab to Drive (if the dataset is on drive)"
      ]
    },
    {
      "cell_type": "code",
      "execution_count": null,
      "metadata": {
        "colab": {
          "base_uri": "https://localhost:8080/"
        },
        "id": "eQJFEi19d8US",
        "outputId": "92409660-93e4-4788-e6b4-8023e272be80"
      },
      "outputs": [
        {
          "name": "stdout",
          "output_type": "stream",
          "text": [
            "Mounted at /content/drive\n"
          ]
        }
      ],
      "source": [
        "from google.colab import drive\n",
        "drive.mount('/content/drive')"
      ]
    },
    {
      "cell_type": "code",
      "execution_count": null,
      "metadata": {
        "colab": {
          "base_uri": "https://localhost:8080/"
        },
        "id": "UXLs-GOgGB5a",
        "outputId": "9950c78a-9a1a-4733-8cf1-a0705a865d3d"
      },
      "outputs": [
        {
          "name": "stdout",
          "output_type": "stream",
          "text": [
            "Archive:  drive/MyDrive/photos.zip\n",
            "replace photos/1/IMG_20201211_164739.xml? [y]es, [n]o, [A]ll, [N]one, [r]ename: "
          ]
        }
      ],
      "source": [
        "!unzip \"drive/MyDrive/photos.zip\""
      ]
    },
    {
      "cell_type": "markdown",
      "metadata": {
        "id": "BDBhCwhszREA"
      },
      "source": [
        "## Load dataset\n",
        "\n",
        "In the Lego dataset, the images are organized into folders according to the number of legos. In this notebook, we will only consider images with up to 4 legos."
      ]
    },
    {
      "cell_type": "code",
      "execution_count": null,
      "metadata": {
        "colab": {
          "base_uri": "https://localhost:8080/"
        },
        "id": "w5IQVCmOzREB",
        "outputId": "61c94839-0c6e-44b6-b999-82cfeef3b76b"
      },
      "outputs": [
        {
          "name": "stdout",
          "output_type": "stream",
          "text": [
            "Train label distribution: tensor([   0, 1741,  240,   46,   31,   13,    4,    5,    9,    6,    3,    4,\n",
            "           2,    1,    4,    4,    0,    1,    3,    0,    0,    0,    0,    1,\n",
            "           1,    0,    0,    0,    1,    1,    4,    1,    1])\n",
            "Train label distribution: tensor([ 0, 50, 50, 46, 31, 13,  4,  5,  9,  6,  3,  4,  2,  1,  4,  4,  0,  1,\n",
            "         3,  0,  0,  0,  0,  1,  1,  0,  0,  0,  1,  1,  4,  1,  1])\n",
            "Train size: 0.2338403041825095\n",
            "Validation size: 0.5057034220532319\n",
            "Test size: 0.26045627376425856\n"
          ]
        }
      ],
      "source": [
        "images_directory = \"/content/photos\"\n",
        "\n",
        "# Obtain names of images for training and validation\n",
        "image_paths = []\n",
        "num_legos = []\n",
        "for dirpath, dirnames, filenames in os.walk(images_directory):\n",
        "    for filename in filenames:\n",
        "        # Check how many legos the image has\n",
        "        n = int(dirpath.split(os.sep)[-1])\n",
        "\n",
        "        if filename.endswith('.jpg'):\n",
        "            num_legos.append(n)\n",
        "            image_paths.append(os.path.join(dirpath, filename))\n",
        "\n",
        "image_paths = np.asarray(image_paths)\n",
        "num_legos = torch.Tensor(num_legos).to(torch.int64)\n",
        "\n",
        "\n",
        "# Use csv file to get the split\n",
        "split_df = pd.read_csv(\"/content/drive/MyDrive/train_test_split.csv\")\n",
        "# Define the test has th paths that have column is_test = 1\n",
        "split = np.zeros(len(image_paths))\n",
        "for i, path in enumerate(image_paths):\n",
        "    split[i] = int(split_df[\"/content/\" + split_df[\"filename\"] == path][\"is_test\"].values[0])\n",
        "\n",
        "test_indexes = np.where(split == 1)[0]\n",
        "other_indexes =  np.where(split == 0)[0]\n",
        "\n",
        "# Split the other indexes into train and validation\n",
        "random.shuffle(other_indexes)\n",
        "train_indexes = other_indexes[:int(0.8*len(other_indexes))]\n",
        "valid_indexes = other_indexes[int(0.8*len(other_indexes)):]\n",
        "\n",
        "num_legos_train = num_legos[train_indexes]\n",
        "print(f\"Train label distribution: {torch.bincount(num_legos_train)}\")\n",
        "\n",
        "\n",
        "# get number of legos for each class 1,2,3,4\n",
        "num_legos_train = num_legos[train_indexes]\n",
        "# Get the indexes where num_legos is 1\n",
        "one_lego_indexes = np.where(num_legos_train == 1)[0]\n",
        "random.shuffle(one_lego_indexes)\n",
        "one_lego_indexes = one_lego_indexes[:50]\n",
        "train_indexes = np.concatenate((train_indexes[np.where(num_legos_train != 1)[0]], train_indexes[one_lego_indexes]))\n",
        "\n",
        "# Get the indexes where num_legos is 2\n",
        "num_legos_train = num_legos[train_indexes]\n",
        "two_lego_indexes = np.where(num_legos_train == 2)[0]\n",
        "random.shuffle(two_lego_indexes)\n",
        "two_lego_indexes = two_lego_indexes[:50]\n",
        "train_indexes = np.concatenate((train_indexes[np.where(num_legos_train != 2)[0]], train_indexes[two_lego_indexes]))\n",
        "\n",
        "\n",
        "# print label distribution for train\n",
        "num_legos_train = num_legos[train_indexes]\n",
        "print(f\"Train label distribution: {torch.bincount(num_legos_train)}\")\n",
        "\n",
        "# print relative size of each\n",
        "total = len(train_indexes) + len(valid_indexes) + len(test_indexes)\n",
        "print(f\"Train size: {len(train_indexes)/total}\")\n",
        "print(f\"Validation size: {len(valid_indexes)/total}\")\n",
        "print(f\"Test size: {len(test_indexes)/total}\")\n"
      ]
    },
    {
      "cell_type": "code",
      "execution_count": null,
      "metadata": {
        "id": "juTsr3Lld8UT"
      },
      "outputs": [],
      "source": [
        "class LegosDataset(Dataset):\n",
        "    def __init__(self, images_filenames, num_legos, transform=None):\n",
        "        self.images_filenames = images_filenames\n",
        "        self.transform = transform\n",
        "\n",
        "        # Transform number of legos into one hot encoding\n",
        "        self.labels = num_legos - 1\n",
        "\n",
        "    def __len__(self):\n",
        "        return len(self.images_filenames)\n",
        "\n",
        "    def __getitem__(self, idx):\n",
        "        image_filename = self.images_filenames[idx]\n",
        "        label = self.labels[idx]\n",
        "\n",
        "        # Read image\n",
        "        image = cv2.imread(image_filename)\n",
        "\n",
        "        # Convert from BGR to RGB\n",
        "        image = cv2.cvtColor(image, cv2.COLOR_BGR2RGB)\n",
        "\n",
        "        # Apply the same data augmentation to both input image and target mask\n",
        "        if self.transform is not None:\n",
        "            image = self.transform(image)\n",
        "\n",
        "        return image, label"
      ]
    },
    {
      "cell_type": "code",
      "execution_count": null,
      "metadata": {
        "id": "MAYHXPnzd8UT"
      },
      "outputs": [],
      "source": [
        "batch_size = 32\n",
        "num_workers = 2\n",
        "\n",
        "# Define transformations to be applied to data\n",
        "transform = transforms.Compose(\n",
        "    [\n",
        "        transforms.ToTensor(),\n",
        "        transforms.Resize((224, 224)),\n",
        "        transforms.Normalize([0.485, 0.456, 0.406], [0.229, 0.224, 0.225])\n",
        "    ]\n",
        ")\n",
        "\n",
        "# Define datasets and dataloaders\n",
        "train_dataset = LegosDataset(image_paths[train_indexes], num_legos[train_indexes], transform=transform)\n",
        "valid_dataset = LegosDataset(image_paths[valid_indexes], num_legos[valid_indexes], transform=transform)\n",
        "test_dataset = LegosDataset(image_paths[test_indexes], num_legos[test_indexes], transform=transform)\n",
        "\n",
        "train_dataloader = DataLoader(train_dataset, batch_size=batch_size, num_workers=num_workers, shuffle=True)\n",
        "valid_dataloader = DataLoader(valid_dataset, batch_size=batch_size, num_workers=num_workers, shuffle=False)\n",
        "test_dataloader = DataLoader(test_dataset, batch_size=1, num_workers=num_workers, shuffle=False)"
      ]
    },
    {
      "cell_type": "markdown",
      "metadata": {
        "id": "0aqWR_0VzRED"
      },
      "source": [
        "## Defining the model\n",
        "\n",
        "Load a pre-trained convolutional neural network of your own choice from torchvision. Do not forget to change the last layer to match the number of classes (4)!"
      ]
    },
    {
      "cell_type": "code",
      "execution_count": null,
      "metadata": {
        "colab": {
          "base_uri": "https://localhost:8080/"
        },
        "id": "DfK3c9RSzRED",
        "outputId": "b850d1de-e252-4343-a65f-f14faec3fe44"
      },
      "outputs": [
        {
          "name": "stdout",
          "output_type": "stream",
          "text": [
            "Using cuda device\n"
          ]
        },
        {
          "name": "stderr",
          "output_type": "stream",
          "text": [
            "/usr/local/lib/python3.10/dist-packages/torchvision/models/_utils.py:208: UserWarning: The parameter 'pretrained' is deprecated since 0.13 and may be removed in the future, please use 'weights' instead.\n",
            "  warnings.warn(\n",
            "/usr/local/lib/python3.10/dist-packages/torchvision/models/_utils.py:223: UserWarning: Arguments other than a weight enum or `None` for 'weights' are deprecated since 0.13 and may be removed in the future. The current behavior is equivalent to passing `weights=ResNet18_Weights.IMAGENET1K_V1`. You can also use `weights=ResNet18_Weights.DEFAULT` to get the most up-to-date weights.\n",
            "  warnings.warn(msg)\n"
          ]
        },
        {
          "data": {
            "text/plain": [
              "ResNet(\n",
              "  (conv1): Conv2d(3, 64, kernel_size=(7, 7), stride=(2, 2), padding=(3, 3), bias=False)\n",
              "  (bn1): BatchNorm2d(64, eps=1e-05, momentum=0.1, affine=True, track_running_stats=True)\n",
              "  (relu): ReLU(inplace=True)\n",
              "  (maxpool): MaxPool2d(kernel_size=3, stride=2, padding=1, dilation=1, ceil_mode=False)\n",
              "  (layer1): Sequential(\n",
              "    (0): BasicBlock(\n",
              "      (conv1): Conv2d(64, 64, kernel_size=(3, 3), stride=(1, 1), padding=(1, 1), bias=False)\n",
              "      (bn1): BatchNorm2d(64, eps=1e-05, momentum=0.1, affine=True, track_running_stats=True)\n",
              "      (relu): ReLU(inplace=True)\n",
              "      (conv2): Conv2d(64, 64, kernel_size=(3, 3), stride=(1, 1), padding=(1, 1), bias=False)\n",
              "      (bn2): BatchNorm2d(64, eps=1e-05, momentum=0.1, affine=True, track_running_stats=True)\n",
              "    )\n",
              "    (1): BasicBlock(\n",
              "      (conv1): Conv2d(64, 64, kernel_size=(3, 3), stride=(1, 1), padding=(1, 1), bias=False)\n",
              "      (bn1): BatchNorm2d(64, eps=1e-05, momentum=0.1, affine=True, track_running_stats=True)\n",
              "      (relu): ReLU(inplace=True)\n",
              "      (conv2): Conv2d(64, 64, kernel_size=(3, 3), stride=(1, 1), padding=(1, 1), bias=False)\n",
              "      (bn2): BatchNorm2d(64, eps=1e-05, momentum=0.1, affine=True, track_running_stats=True)\n",
              "    )\n",
              "  )\n",
              "  (layer2): Sequential(\n",
              "    (0): BasicBlock(\n",
              "      (conv1): Conv2d(64, 128, kernel_size=(3, 3), stride=(2, 2), padding=(1, 1), bias=False)\n",
              "      (bn1): BatchNorm2d(128, eps=1e-05, momentum=0.1, affine=True, track_running_stats=True)\n",
              "      (relu): ReLU(inplace=True)\n",
              "      (conv2): Conv2d(128, 128, kernel_size=(3, 3), stride=(1, 1), padding=(1, 1), bias=False)\n",
              "      (bn2): BatchNorm2d(128, eps=1e-05, momentum=0.1, affine=True, track_running_stats=True)\n",
              "      (downsample): Sequential(\n",
              "        (0): Conv2d(64, 128, kernel_size=(1, 1), stride=(2, 2), bias=False)\n",
              "        (1): BatchNorm2d(128, eps=1e-05, momentum=0.1, affine=True, track_running_stats=True)\n",
              "      )\n",
              "    )\n",
              "    (1): BasicBlock(\n",
              "      (conv1): Conv2d(128, 128, kernel_size=(3, 3), stride=(1, 1), padding=(1, 1), bias=False)\n",
              "      (bn1): BatchNorm2d(128, eps=1e-05, momentum=0.1, affine=True, track_running_stats=True)\n",
              "      (relu): ReLU(inplace=True)\n",
              "      (conv2): Conv2d(128, 128, kernel_size=(3, 3), stride=(1, 1), padding=(1, 1), bias=False)\n",
              "      (bn2): BatchNorm2d(128, eps=1e-05, momentum=0.1, affine=True, track_running_stats=True)\n",
              "    )\n",
              "  )\n",
              "  (layer3): Sequential(\n",
              "    (0): BasicBlock(\n",
              "      (conv1): Conv2d(128, 256, kernel_size=(3, 3), stride=(2, 2), padding=(1, 1), bias=False)\n",
              "      (bn1): BatchNorm2d(256, eps=1e-05, momentum=0.1, affine=True, track_running_stats=True)\n",
              "      (relu): ReLU(inplace=True)\n",
              "      (conv2): Conv2d(256, 256, kernel_size=(3, 3), stride=(1, 1), padding=(1, 1), bias=False)\n",
              "      (bn2): BatchNorm2d(256, eps=1e-05, momentum=0.1, affine=True, track_running_stats=True)\n",
              "      (downsample): Sequential(\n",
              "        (0): Conv2d(128, 256, kernel_size=(1, 1), stride=(2, 2), bias=False)\n",
              "        (1): BatchNorm2d(256, eps=1e-05, momentum=0.1, affine=True, track_running_stats=True)\n",
              "      )\n",
              "    )\n",
              "    (1): BasicBlock(\n",
              "      (conv1): Conv2d(256, 256, kernel_size=(3, 3), stride=(1, 1), padding=(1, 1), bias=False)\n",
              "      (bn1): BatchNorm2d(256, eps=1e-05, momentum=0.1, affine=True, track_running_stats=True)\n",
              "      (relu): ReLU(inplace=True)\n",
              "      (conv2): Conv2d(256, 256, kernel_size=(3, 3), stride=(1, 1), padding=(1, 1), bias=False)\n",
              "      (bn2): BatchNorm2d(256, eps=1e-05, momentum=0.1, affine=True, track_running_stats=True)\n",
              "    )\n",
              "  )\n",
              "  (layer4): Sequential(\n",
              "    (0): BasicBlock(\n",
              "      (conv1): Conv2d(256, 512, kernel_size=(3, 3), stride=(2, 2), padding=(1, 1), bias=False)\n",
              "      (bn1): BatchNorm2d(512, eps=1e-05, momentum=0.1, affine=True, track_running_stats=True)\n",
              "      (relu): ReLU(inplace=True)\n",
              "      (conv2): Conv2d(512, 512, kernel_size=(3, 3), stride=(1, 1), padding=(1, 1), bias=False)\n",
              "      (bn2): BatchNorm2d(512, eps=1e-05, momentum=0.1, affine=True, track_running_stats=True)\n",
              "      (downsample): Sequential(\n",
              "        (0): Conv2d(256, 512, kernel_size=(1, 1), stride=(2, 2), bias=False)\n",
              "        (1): BatchNorm2d(512, eps=1e-05, momentum=0.1, affine=True, track_running_stats=True)\n",
              "      )\n",
              "    )\n",
              "    (1): BasicBlock(\n",
              "      (conv1): Conv2d(512, 512, kernel_size=(3, 3), stride=(1, 1), padding=(1, 1), bias=False)\n",
              "      (bn1): BatchNorm2d(512, eps=1e-05, momentum=0.1, affine=True, track_running_stats=True)\n",
              "      (relu): ReLU(inplace=True)\n",
              "      (conv2): Conv2d(512, 512, kernel_size=(3, 3), stride=(1, 1), padding=(1, 1), bias=False)\n",
              "      (bn2): BatchNorm2d(512, eps=1e-05, momentum=0.1, affine=True, track_running_stats=True)\n",
              "    )\n",
              "  )\n",
              "  (avgpool): AdaptiveAvgPool2d(output_size=(1, 1))\n",
              "  (fc): Linear(in_features=512, out_features=32, bias=True)\n",
              ")"
            ]
          },
          "execution_count": 13,
          "metadata": {},
          "output_type": "execute_result"
        }
      ],
      "source": [
        "# Get cpu or gpu device for training.\n",
        "device = \"cuda\" if torch.cuda.is_available() else \"cpu\"\n",
        "print(f\"Using {device} device\")\n",
        "\n",
        "# Define model\n",
        "model = models.vgg16(pretrained=True)\n",
        "model.classifier[6] = nn.Linear(4096, 4)\n",
        "#model = models.inception_v3(pretrained=True)\n",
        "#model.fc = nn.Linear(2048, 4)\n",
        "\n",
        "# Freeze all layers except the last one\n",
        "for name, param in model.named_parameters():\n",
        "    if \"fc\" not in name:\n",
        "        param.requires_grad = False\n",
        "\n",
        "model.to(device)"
      ]
    },
    {
      "cell_type": "markdown",
      "metadata": {
        "id": "g1kRGiw_zREE"
      },
      "source": [
        "## Train the model"
      ]
    },
    {
      "cell_type": "markdown",
      "metadata": {
        "id": "mDxDXlXud8UU"
      },
      "source": [
        "Define function to perform one iteration"
      ]
    },
    {
      "cell_type": "code",
      "execution_count": null,
      "metadata": {
        "id": "VxSdayviCWk5"
      },
      "outputs": [],
      "source": [
        "@dataclass\n",
        "class Result:\n",
        "    accuracy: float\n",
        "    balanced_accuracy: float\n",
        "    precision: float\n",
        "    recall: float\n",
        "    f1: float\n",
        "\n",
        "\n",
        "def step(model, dataloader, loss_fn, device, optimizer=None, is_train=True):\n",
        "    if is_train:\n",
        "        model.train()\n",
        "    else:\n",
        "        model.eval()\n",
        "\n",
        "    running_loss = 0.0\n",
        "    all_labels = []\n",
        "    all_predictions = []\n",
        "\n",
        "    for images, labels in tqdm(dataloader):\n",
        "        images = images.to(device)\n",
        "        labels = labels.to(device)\n",
        "\n",
        "        if is_train:\n",
        "            optimizer.zero_grad()\n",
        "\n",
        "        with torch.set_grad_enabled(is_train):\n",
        "            outputs = model(images)\n",
        "            # Transform InceptionOutputs to tensor\n",
        "            if isinstance(outputs, torch.Tensor):\n",
        "                outputs = outputs\n",
        "            else:\n",
        "                outputs = outputs.logits\n",
        "            loss = loss_fn(outputs, labels)\n",
        "\n",
        "            if is_train:\n",
        "                loss.backward()\n",
        "                optimizer.step()\n",
        "\n",
        "        running_loss += loss.item()\n",
        "\n",
        "        all_labels.extend(labels.cpu().numpy())\n",
        "        all_predictions.extend(outputs.argmax(dim=1).detach().cpu().numpy())\n",
        "\n",
        "    loss = running_loss / len(dataloader)\n",
        "    accuracy = accuracy_score(all_labels, all_predictions)\n",
        "    # Get balanced accuracy\n",
        "    balanced_accuracy = balanced_accuracy_score(all_labels, all_predictions)  # Get balanced accuracy\n",
        "\n",
        "    return Result(\n",
        "        accuracy=accuracy,\n",
        "        balanced_accuracy=balanced_accuracy,\n",
        "        precision=precision_score(all_labels, all_predictions, average=\"weighted\"),\n",
        "        recall=recall_score(all_labels, all_predictions, average=\"weighted\"),\n",
        "        f1=f1_score(all_labels, all_predictions, average=\"weighted\")\n",
        "    )"
      ]
    },
    {
      "cell_type": "markdown",
      "metadata": {
        "id": "NiUlq1FLd8UV"
      },
      "source": [
        "Define function to train a model"
      ]
    },
    {
      "cell_type": "code",
      "execution_count": null,
      "metadata": {
        "id": "sPbGtpwIMuT7"
      },
      "outputs": [],
      "source": [
        "def train(model, train_dataloader, valid_dataloader, loss_fn, optimizer, device, num_epochs):\n",
        "    train_losses = []\n",
        "    valid_losses = []\n",
        "    valid_accuracies = []\n",
        "\n",
        "    for epoch in range(num_epochs):\n",
        "        train_result = step(model, train_dataloader, loss_fn, device, optimizer=optimizer, is_train=True)\n",
        "        valid_result = step(model, valid_dataloader, loss_fn, device, is_train=False)\n",
        "\n",
        "        print(f\"Epoch {epoch + 1}/{num_epochs}\")\n",
        "        print(f\"{color.BOLD}Training{color.END}   Loss: {color.DARKCYAN}{train_result.loss:.4f}{color.END}, Accuracy: {color.DARKCYAN}{train_result.accuracy:.4f}{color.END}, Balanced Accuracy: {color.DARKCYAN}{train_result.balanced_accuracy:.4f}{color.END}, Precision: {color.DARKCYAN}{train_result.precision:.4f}{color.END}, Recall: {color.DARKCYAN}{train_result.recall:.4f}{color.END}, F1: {color.DARKCYAN}{train_result.f1:.4f}{color.END}\")\n",
        "        print(f\"{color.BOLD}Validation{color.END} Loss: {color.DARKCYAN}{valid_result.loss:.4f}{color.END}, Accuracy: {color.DARKCYAN}{valid_result.accuracy:.4f}{color.END}, Balanced Accuracy: {color.DARKCYAN}{valid_result.balanced_accuracy:.4f}{color.END}, Precision: {color.DARKCYAN}{valid_result.precision:.4f}{color.END}, Recall: {color.DARKCYAN}{valid_result.recall:.4f}{color.END}, F1: {color.DARKCYAN}{valid_result.f1:.4f}{color.END}\")\n",
        "        train_history.loc[len(train_history)] = [train_result.loss, train_result.accuracy]\n",
        "        val_history.loc[len(val_history)] = [valid_result.loss, valid_result.accuracy]\n",
        "\n",
        "        train_losses.append(train_result.loss)\n",
        "        valid_losses.append(valid_result.loss)\n",
        "        valid_accuracies.append(valid_result.accuracy)\n",
        "\n",
        "    return train_losses, valid_losses, valid_accuracies"
      ]
    },
    {
      "cell_type": "markdown",
      "metadata": {
        "id": "73djngkzNkjD"
      },
      "source": [
        "Define loss, optimizer and train the model. Remember that we will model this regression task problem as a classification problem when choosing the loss function!"
      ]
    },
    {
      "cell_type": "code",
      "execution_count": null,
      "metadata": {
        "colab": {
          "base_uri": "https://localhost:8080/"
        },
        "id": "DmsUVGS6C0O1",
        "outputId": "672afd31-029e-498f-8221-106d27757e10"
      },
      "outputs": [
        {
          "name": "stdout",
          "output_type": "stream",
          "text": [
            "Train size: 246\n"
          ]
        },
        {
          "name": "stderr",
          "output_type": "stream",
          "text": [
            "100%|██████████| 8/8 [01:59<00:00, 14.98s/it]\n",
            "100%|██████████| 17/17 [03:17<00:00, 11.63s/it]\n"
          ]
        },
        {
          "name": "stdout",
          "output_type": "stream",
          "text": [
            "Epoch 1/10, train_loss: 1.9297, train_accuracy: 0.3780, valid_loss: 1.3996, valid_accuracy: 0.4981\n"
          ]
        },
        {
          "name": "stderr",
          "output_type": "stream",
          "text": [
            "100%|██████████| 8/8 [01:58<00:00, 14.79s/it]\n",
            "100%|██████████| 17/17 [03:16<00:00, 11.57s/it]\n"
          ]
        },
        {
          "name": "stdout",
          "output_type": "stream",
          "text": [
            "Epoch 2/10, train_loss: 1.7216, train_accuracy: 0.4350, valid_loss: 1.5658, valid_accuracy: 0.4737\n"
          ]
        },
        {
          "name": "stderr",
          "output_type": "stream",
          "text": [
            "100%|██████████| 8/8 [02:03<00:00, 15.40s/it]\n",
            "100%|██████████| 17/17 [03:17<00:00, 11.60s/it]\n"
          ]
        },
        {
          "name": "stdout",
          "output_type": "stream",
          "text": [
            "Epoch 3/10, train_loss: 1.5290, train_accuracy: 0.5285, valid_loss: 1.4047, valid_accuracy: 0.5150\n"
          ]
        },
        {
          "name": "stderr",
          "output_type": "stream",
          "text": [
            "100%|██████████| 8/8 [01:58<00:00, 14.82s/it]\n",
            "100%|██████████| 17/17 [03:20<00:00, 11.77s/it]\n"
          ]
        },
        {
          "name": "stdout",
          "output_type": "stream",
          "text": [
            "Epoch 4/10, train_loss: 1.4349, train_accuracy: 0.4959, valid_loss: 1.3266, valid_accuracy: 0.5677\n"
          ]
        },
        {
          "name": "stderr",
          "output_type": "stream",
          "text": [
            "100%|██████████| 8/8 [01:59<00:00, 14.95s/it]\n",
            "100%|██████████| 17/17 [03:17<00:00, 11.62s/it]\n"
          ]
        },
        {
          "name": "stdout",
          "output_type": "stream",
          "text": [
            "Epoch 5/10, train_loss: 1.3142, train_accuracy: 0.6057, valid_loss: 1.4688, valid_accuracy: 0.4850\n"
          ]
        },
        {
          "name": "stderr",
          "output_type": "stream",
          "text": [
            "100%|██████████| 8/8 [01:59<00:00, 14.95s/it]\n",
            "100%|██████████| 17/17 [03:18<00:00, 11.68s/it]\n"
          ]
        },
        {
          "name": "stdout",
          "output_type": "stream",
          "text": [
            "Epoch 6/10, train_loss: 1.2407, train_accuracy: 0.6341, valid_loss: 1.2144, valid_accuracy: 0.6447\n"
          ]
        },
        {
          "name": "stderr",
          "output_type": "stream",
          "text": [
            "100%|██████████| 8/8 [02:00<00:00, 15.03s/it]\n",
            "100%|██████████| 17/17 [03:22<00:00, 11.92s/it]\n"
          ]
        },
        {
          "name": "stdout",
          "output_type": "stream",
          "text": [
            "Epoch 7/10, train_loss: 1.1425, train_accuracy: 0.7195, valid_loss: 1.4852, valid_accuracy: 0.4455\n"
          ]
        },
        {
          "name": "stderr",
          "output_type": "stream",
          "text": [
            "100%|██████████| 8/8 [01:58<00:00, 14.75s/it]\n",
            "100%|██████████| 17/17 [03:21<00:00, 11.86s/it]\n"
          ]
        },
        {
          "name": "stdout",
          "output_type": "stream",
          "text": [
            "Epoch 8/10, train_loss: 1.0583, train_accuracy: 0.7439, valid_loss: 1.2397, valid_accuracy: 0.5902\n"
          ]
        },
        {
          "name": "stderr",
          "output_type": "stream",
          "text": [
            "100%|██████████| 8/8 [02:02<00:00, 15.30s/it]\n",
            "100%|██████████| 17/17 [03:22<00:00, 11.89s/it]\n"
          ]
        },
        {
          "name": "stdout",
          "output_type": "stream",
          "text": [
            "Epoch 9/10, train_loss: 1.0100, train_accuracy: 0.7642, valid_loss: 1.2133, valid_accuracy: 0.6447\n"
          ]
        },
        {
          "name": "stderr",
          "output_type": "stream",
          "text": [
            "100%|██████████| 8/8 [02:05<00:00, 15.73s/it]\n",
            "100%|██████████| 17/17 [03:20<00:00, 11.77s/it]"
          ]
        },
        {
          "name": "stdout",
          "output_type": "stream",
          "text": [
            "Epoch 10/10, train_loss: 0.9395, train_accuracy: 0.7642, valid_loss: 1.3176, valid_accuracy: 0.5320\n"
          ]
        },
        {
          "name": "stderr",
          "output_type": "stream",
          "text": [
            "\n"
          ]
        }
      ],
      "source": [
        "# Define loss function\n",
        "loss_fn = nn.CrossEntropyLoss()\n",
        "\n",
        "# Define optimizer\n",
        "optimizer = torch.optim.Adam(model.parameters(), lr=0.001)\n",
        "\n",
        "num_epochs = 10\n",
        "\n",
        "print(f\"Train size: {len(train_dataloader.dataset)}\")\n",
        "\n",
        "# Train the model\n",
        "train_losses, valid_losses, valid_accuracies = train(model, train_dataloader, valid_dataloader, loss_fn, optimizer, device, num_epochs)\n",
        "\n",
        "torch.save(model.state_dict(), \"/content/recent.pth\")\n"
      ]
    },
    {
      "cell_type": "markdown",
      "metadata": {
        "id": "WrQMAKFHzREG"
      },
      "source": [
        "## Analyse training evolution"
      ]
    },
    {
      "cell_type": "markdown",
      "metadata": {
        "id": "P7W0PEy1d8UV"
      },
      "source": [
        "Plot loss and accuracy throughout training on train and validation data"
      ]
    },
    {
      "cell_type": "code",
      "execution_count": null,
      "metadata": {
        "id": "xr48TEVlzREH"
      },
      "outputs": [],
      "source": [
        "def plotTrainingHistory(train_history, val_history):\n",
        "    plt.subplot(2, 1, 1)\n",
        "    plt.title('Cross Entropy Loss')\n",
        "    plt.plot(train_history['loss'], label='train')\n",
        "    plt.plot(val_history['loss'], label='val')\n",
        "    plt.legend(loc='best')\n",
        "\n",
        "    plt.subplot(2, 1, 2)\n",
        "    plt.title('Classification Accuracy')\n",
        "    plt.plot(train_history['accuracy'], label='train')\n",
        "    plt.plot(val_history['accuracy'], label='val')\n",
        "\n",
        "    plt.tight_layout()\n",
        "    plt.legend(loc='best')\n",
        "    plt.show()"
      ]
    },
    {
      "cell_type": "code",
      "execution_count": null,
      "metadata": {
        "colab": {
          "base_uri": "https://localhost:8080/",
          "height": 486
        },
        "id": "3GfeNPc4zREI",
        "outputId": "75dc0cdc-8677-4e34-bd19-91d3551fd828"
      },
      "outputs": [
        {
          "data": {
            "image/png": "[encoded data removed]",
            "text/plain": [
              "<Figure size 640x480 with 2 Axes>"
            ]
          },
          "metadata": {},
          "output_type": "display_data"
        }
      ],
      "source": [
        "plotTrainingHistory(train_history, val_history)"
      ]
    },
    {
      "cell_type": "code",
      "execution_count": null,
      "metadata": {
        "colab": {
          "base_uri": "https://localhost:8080/",
          "height": 1000
        },
        "id": "90YCi4sKWh6H",
        "outputId": "72de685a-0864-4ddc-b524-d8630be41cbf"
      },
      "outputs": [
        {
          "name": "stderr",
          "output_type": "stream",
          "text": [
            "100%|██████████| 6/6 [00:01<00:00,  4.62it/s]\n",
            "100%|██████████| 5/5 [00:00<00:00,  5.37it/s]\n"
          ]
        },
        {
          "name": "stdout",
          "output_type": "stream",
          "text": [
            "Epoch 1/50, train_loss: 0.8988, train_accuracy: 0.6765, valid_loss: 1.2008, valid_accuracy: 0.4266\n"
          ]
        },
        {
          "name": "stderr",
          "output_type": "stream",
          "text": [
            "100%|██████████| 6/6 [00:01<00:00,  4.64it/s]\n",
            "100%|██████████| 5/5 [00:00<00:00,  5.41it/s]\n"
          ]
        },
        {
          "name": "stdout",
          "output_type": "stream",
          "text": [
            "Epoch 2/50, train_loss: 0.2780, train_accuracy: 0.9765, valid_loss: 1.2686, valid_accuracy: 0.4476\n"
          ]
        },
        {
          "name": "stderr",
          "output_type": "stream",
          "text": [
            "100%|██████████| 6/6 [00:01<00:00,  4.52it/s]\n",
            "100%|██████████| 5/5 [00:01<00:00,  4.04it/s]\n"
          ]
        },
        {
          "name": "stdout",
          "output_type": "stream",
          "text": [
            "Epoch 3/50, train_loss: 0.1133, train_accuracy: 1.0000, valid_loss: 1.1494, valid_accuracy: 0.5035\n"
          ]
        },
        {
          "name": "stderr",
          "output_type": "stream",
          "text": [
            "100%|██████████| 6/6 [00:01<00:00,  3.42it/s]\n",
            "100%|██████████| 5/5 [00:01<00:00,  3.62it/s]\n"
          ]
        },
        {
          "name": "stdout",
          "output_type": "stream",
          "text": [
            "Epoch 4/50, train_loss: 0.0511, train_accuracy: 1.0000, valid_loss: 1.0935, valid_accuracy: 0.5105\n"
          ]
        },
        {
          "name": "stderr",
          "output_type": "stream",
          "text": [
            "100%|██████████| 6/6 [00:01<00:00,  4.47it/s]\n",
            "100%|██████████| 5/5 [00:00<00:00,  5.40it/s]\n"
          ]
        },
        {
          "name": "stdout",
          "output_type": "stream",
          "text": [
            "Epoch 5/50, train_loss: 0.0581, train_accuracy: 0.9941, valid_loss: 1.0899, valid_accuracy: 0.5455\n"
          ]
        },
        {
          "name": "stderr",
          "output_type": "stream",
          "text": [
            "100%|██████████| 6/6 [00:01<00:00,  4.73it/s]\n",
            "100%|██████████| 5/5 [00:00<00:00,  5.41it/s]\n"
          ]
        },
        {
          "name": "stdout",
          "output_type": "stream",
          "text": [
            "Epoch 6/50, train_loss: 0.0279, train_accuracy: 1.0000, valid_loss: 1.1212, valid_accuracy: 0.5944\n"
          ]
        },
        {
          "name": "stderr",
          "output_type": "stream",
          "text": [
            "100%|██████████| 6/6 [00:01<00:00,  4.75it/s]\n",
            "100%|██████████| 5/5 [00:00<00:00,  5.21it/s]\n"
          ]
        },
        {
          "name": "stdout",
          "output_type": "stream",
          "text": [
            "Epoch 7/50, train_loss: 0.0496, train_accuracy: 0.9941, valid_loss: 1.1408, valid_accuracy: 0.6084\n"
          ]
        },
        {
          "name": "stderr",
          "output_type": "stream",
          "text": [
            "100%|██████████| 6/6 [00:01<00:00,  4.71it/s]\n",
            "100%|██████████| 5/5 [00:00<00:00,  5.52it/s]\n"
          ]
        },
        {
          "name": "stdout",
          "output_type": "stream",
          "text": [
            "Epoch 8/50, train_loss: 0.0243, train_accuracy: 1.0000, valid_loss: 1.1369, valid_accuracy: 0.6294\n"
          ]
        },
        {
          "name": "stderr",
          "output_type": "stream",
          "text": [
            "100%|██████████| 6/6 [00:01<00:00,  4.76it/s]\n",
            "100%|██████████| 5/5 [00:01<00:00,  3.91it/s]\n"
          ]
        },
        {
          "name": "stdout",
          "output_type": "stream",
          "text": [
            "Epoch 9/50, train_loss: 0.0192, train_accuracy: 1.0000, valid_loss: 1.1902, valid_accuracy: 0.6014\n"
          ]
        },
        {
          "name": "stderr",
          "output_type": "stream",
          "text": [
            "100%|██████████| 6/6 [00:01<00:00,  3.45it/s]\n",
            "100%|██████████| 5/5 [00:01<00:00,  3.72it/s]\n"
          ]
        },
        {
          "name": "stdout",
          "output_type": "stream",
          "text": [
            "Epoch 10/50, train_loss: 0.0128, train_accuracy: 1.0000, valid_loss: 1.1818, valid_accuracy: 0.6084\n"
          ]
        },
        {
          "name": "stderr",
          "output_type": "stream",
          "text": [
            "100%|██████████| 6/6 [00:01<00:00,  4.41it/s]\n",
            "100%|██████████| 5/5 [00:00<00:00,  5.52it/s]\n"
          ]
        },
        {
          "name": "stdout",
          "output_type": "stream",
          "text": [
            "Epoch 11/50, train_loss: 0.0178, train_accuracy: 1.0000, valid_loss: 1.1765, valid_accuracy: 0.5944\n"
          ]
        },
        {
          "name": "stderr",
          "output_type": "stream",
          "text": [
            "100%|██████████| 6/6 [00:01<00:00,  4.78it/s]\n",
            "100%|██████████| 5/5 [00:00<00:00,  5.38it/s]\n"
          ]
        },
        {
          "name": "stdout",
          "output_type": "stream",
          "text": [
            "Epoch 12/50, train_loss: 0.0091, train_accuracy: 1.0000, valid_loss: 1.1783, valid_accuracy: 0.5944\n"
          ]
        },
        {
          "name": "stderr",
          "output_type": "stream",
          "text": [
            "100%|██████████| 6/6 [00:01<00:00,  4.85it/s]\n",
            "100%|██████████| 5/5 [00:00<00:00,  5.56it/s]\n"
          ]
        },
        {
          "name": "stdout",
          "output_type": "stream",
          "text": [
            "Epoch 13/50, train_loss: 0.0087, train_accuracy: 1.0000, valid_loss: 1.1980, valid_accuracy: 0.5944\n"
          ]
        },
        {
          "name": "stderr",
          "output_type": "stream",
          "text": [
            "100%|██████████| 6/6 [00:01<00:00,  4.86it/s]\n",
            "100%|██████████| 5/5 [00:00<00:00,  5.28it/s]\n"
          ]
        },
        {
          "name": "stdout",
          "output_type": "stream",
          "text": [
            "Epoch 14/50, train_loss: 0.0073, train_accuracy: 1.0000, valid_loss: 1.1912, valid_accuracy: 0.6014\n"
          ]
        },
        {
          "name": "stderr",
          "output_type": "stream",
          "text": [
            "100%|██████████| 6/6 [00:01<00:00,  4.78it/s]\n",
            "100%|██████████| 5/5 [00:01<00:00,  3.86it/s]\n"
          ]
        },
        {
          "name": "stdout",
          "output_type": "stream",
          "text": [
            "Epoch 15/50, train_loss: 0.0172, train_accuracy: 1.0000, valid_loss: 1.2141, valid_accuracy: 0.5734\n"
          ]
        },
        {
          "name": "stderr",
          "output_type": "stream",
          "text": [
            "100%|██████████| 6/6 [00:01<00:00,  3.36it/s]\n",
            "100%|██████████| 5/5 [00:01<00:00,  3.82it/s]\n"
          ]
        },
        {
          "name": "stdout",
          "output_type": "stream",
          "text": [
            "Epoch 16/50, train_loss: 0.0051, train_accuracy: 1.0000, valid_loss: 1.2551, valid_accuracy: 0.5664\n"
          ]
        },
        {
          "name": "stderr",
          "output_type": "stream",
          "text": [
            "100%|██████████| 6/6 [00:01<00:00,  4.26it/s]\n",
            "100%|██████████| 5/5 [00:00<00:00,  5.24it/s]\n"
          ]
        },
        {
          "name": "stdout",
          "output_type": "stream",
          "text": [
            "Epoch 17/50, train_loss: 0.0179, train_accuracy: 1.0000, valid_loss: 1.2472, valid_accuracy: 0.5734\n"
          ]
        },
        {
          "name": "stderr",
          "output_type": "stream",
          "text": [
            "100%|██████████| 6/6 [00:01<00:00,  4.73it/s]\n",
            "100%|██████████| 5/5 [00:00<00:00,  5.57it/s]\n"
          ]
        },
        {
          "name": "stdout",
          "output_type": "stream",
          "text": [
            "Epoch 18/50, train_loss: 0.0130, train_accuracy: 1.0000, valid_loss: 1.3208, valid_accuracy: 0.5524\n"
          ]
        },
        {
          "name": "stderr",
          "output_type": "stream",
          "text": [
            "100%|██████████| 6/6 [00:01<00:00,  4.76it/s]\n",
            "100%|██████████| 5/5 [00:00<00:00,  5.24it/s]\n"
          ]
        },
        {
          "name": "stdout",
          "output_type": "stream",
          "text": [
            "Epoch 19/50, train_loss: 0.0081, train_accuracy: 1.0000, valid_loss: 1.2855, valid_accuracy: 0.5664\n"
          ]
        },
        {
          "name": "stderr",
          "output_type": "stream",
          "text": [
            "100%|██████████| 6/6 [00:01<00:00,  4.83it/s]\n",
            "100%|██████████| 5/5 [00:00<00:00,  5.29it/s]\n"
          ]
        },
        {
          "name": "stdout",
          "output_type": "stream",
          "text": [
            "Epoch 20/50, train_loss: 0.0130, train_accuracy: 1.0000, valid_loss: 1.2623, valid_accuracy: 0.5734\n"
          ]
        },
        {
          "name": "stderr",
          "output_type": "stream",
          "text": [
            "100%|██████████| 6/6 [00:01<00:00,  4.79it/s]\n",
            "100%|██████████| 5/5 [00:01<00:00,  3.88it/s]\n"
          ]
        },
        {
          "name": "stdout",
          "output_type": "stream",
          "text": [
            "Epoch 21/50, train_loss: 0.0046, train_accuracy: 1.0000, valid_loss: 1.2774, valid_accuracy: 0.5944\n"
          ]
        },
        {
          "name": "stderr",
          "output_type": "stream",
          "text": [
            "100%|██████████| 6/6 [00:01<00:00,  3.45it/s]\n",
            "100%|██████████| 5/5 [00:01<00:00,  3.42it/s]\n"
          ]
        },
        {
          "name": "stdout",
          "output_type": "stream",
          "text": [
            "Epoch 22/50, train_loss: 0.0052, train_accuracy: 1.0000, valid_loss: 1.2745, valid_accuracy: 0.5944\n"
          ]
        },
        {
          "name": "stderr",
          "output_type": "stream",
          "text": [
            "100%|██████████| 6/6 [00:01<00:00,  4.41it/s]\n",
            "100%|██████████| 5/5 [00:00<00:00,  5.44it/s]\n"
          ]
        },
        {
          "name": "stdout",
          "output_type": "stream",
          "text": [
            "Epoch 23/50, train_loss: 0.0668, train_accuracy: 0.9882, valid_loss: 1.2969, valid_accuracy: 0.5944\n"
          ]
        },
        {
          "name": "stderr",
          "output_type": "stream",
          "text": [
            "100%|██████████| 6/6 [00:01<00:00,  4.80it/s]\n",
            "100%|██████████| 5/5 [00:00<00:00,  5.36it/s]\n"
          ]
        },
        {
          "name": "stdout",
          "output_type": "stream",
          "text": [
            "Epoch 24/50, train_loss: 0.0090, train_accuracy: 1.0000, valid_loss: 1.3225, valid_accuracy: 0.5734\n"
          ]
        },
        {
          "name": "stderr",
          "output_type": "stream",
          "text": [
            "100%|██████████| 6/6 [00:01<00:00,  4.75it/s]\n",
            "100%|██████████| 5/5 [00:00<00:00,  5.31it/s]\n"
          ]
        },
        {
          "name": "stdout",
          "output_type": "stream",
          "text": [
            "Epoch 25/50, train_loss: 0.0221, train_accuracy: 0.9941, valid_loss: 1.3023, valid_accuracy: 0.5734\n"
          ]
        },
        {
          "name": "stderr",
          "output_type": "stream",
          "text": [
            "100%|██████████| 6/6 [00:01<00:00,  4.74it/s]\n",
            "100%|██████████| 5/5 [00:00<00:00,  5.30it/s]\n"
          ]
        },
        {
          "name": "stdout",
          "output_type": "stream",
          "text": [
            "Epoch 26/50, train_loss: 0.0107, train_accuracy: 1.0000, valid_loss: 1.2731, valid_accuracy: 0.5874\n"
          ]
        },
        {
          "name": "stderr",
          "output_type": "stream",
          "text": [
            "100%|██████████| 6/6 [00:01<00:00,  4.68it/s]\n",
            "100%|██████████| 5/5 [00:01<00:00,  3.75it/s]\n"
          ]
        },
        {
          "name": "stdout",
          "output_type": "stream",
          "text": [
            "Epoch 27/50, train_loss: 0.0097, train_accuracy: 1.0000, valid_loss: 1.3071, valid_accuracy: 0.6014\n"
          ]
        },
        {
          "name": "stderr",
          "output_type": "stream",
          "text": [
            "100%|██████████| 6/6 [00:01<00:00,  3.42it/s]\n",
            "100%|██████████| 5/5 [00:01<00:00,  2.79it/s]\n"
          ]
        },
        {
          "name": "stdout",
          "output_type": "stream",
          "text": [
            "Epoch 28/50, train_loss: 0.0097, train_accuracy: 1.0000, valid_loss: 1.3413, valid_accuracy: 0.6014\n"
          ]
        },
        {
          "name": "stderr",
          "output_type": "stream",
          "text": [
            "100%|██████████| 6/6 [00:01<00:00,  3.55it/s]\n",
            "100%|██████████| 5/5 [00:00<00:00,  5.12it/s]\n"
          ]
        },
        {
          "name": "stdout",
          "output_type": "stream",
          "text": [
            "Epoch 29/50, train_loss: 0.0039, train_accuracy: 1.0000, valid_loss: 1.3255, valid_accuracy: 0.5874\n"
          ]
        },
        {
          "name": "stderr",
          "output_type": "stream",
          "text": [
            "100%|██████████| 6/6 [00:01<00:00,  4.65it/s]\n",
            "100%|██████████| 5/5 [00:00<00:00,  5.28it/s]\n"
          ]
        },
        {
          "name": "stdout",
          "output_type": "stream",
          "text": [
            "Epoch 30/50, train_loss: 0.0170, train_accuracy: 1.0000, valid_loss: 1.3118, valid_accuracy: 0.6154\n"
          ]
        },
        {
          "name": "stderr",
          "output_type": "stream",
          "text": [
            "100%|██████████| 6/6 [00:01<00:00,  4.70it/s]\n",
            "100%|██████████| 5/5 [00:00<00:00,  5.23it/s]\n"
          ]
        },
        {
          "name": "stdout",
          "output_type": "stream",
          "text": [
            "Epoch 31/50, train_loss: 0.0113, train_accuracy: 1.0000, valid_loss: 1.3399, valid_accuracy: 0.6014\n"
          ]
        },
        {
          "name": "stderr",
          "output_type": "stream",
          "text": [
            " 50%|█████     | 3/6 [00:01<00:01,  2.88it/s]\n"
          ]
        },
        {
          "ename": "KeyboardInterrupt",
          "evalue": "",
          "output_type": "error",
          "traceback": [
            "\u001b[0;31m---------------------------------------------------------------------------\u001b[0m",
            "\u001b[0;31mKeyboardInterrupt\u001b[0m                         Traceback (most recent call last)",
            "\u001b[0;32m<ipython-input-42-3d2773ee2b03>\u001b[0m in \u001b[0;36m<cell line: 8>\u001b[0;34m()\u001b[0m\n\u001b[1;32m      6\u001b[0m \u001b[0;34m\u001b[0m\u001b[0m\n\u001b[1;32m      7\u001b[0m \u001b[0;31m# Train the model\u001b[0m\u001b[0;34m\u001b[0m\u001b[0;34m\u001b[0m\u001b[0m\n\u001b[0;32m----> 8\u001b[0;31m \u001b[0mtrain_losses\u001b[0m\u001b[0;34m,\u001b[0m \u001b[0mvalid_losses\u001b[0m\u001b[0;34m,\u001b[0m \u001b[0mvalid_accuracies\u001b[0m \u001b[0;34m=\u001b[0m \u001b[0mtrain\u001b[0m\u001b[0;34m(\u001b[0m\u001b[0mmodel\u001b[0m\u001b[0;34m,\u001b[0m \u001b[0mtrain_dataloader\u001b[0m\u001b[0;34m,\u001b[0m \u001b[0mvalid_dataloader\u001b[0m\u001b[0;34m,\u001b[0m \u001b[0mloss_fn\u001b[0m\u001b[0;34m,\u001b[0m \u001b[0moptimizer\u001b[0m\u001b[0;34m,\u001b[0m \u001b[0mdevice\u001b[0m\u001b[0;34m,\u001b[0m \u001b[0mnum_epochs\u001b[0m\u001b[0;34m)\u001b[0m\u001b[0;34m\u001b[0m\u001b[0;34m\u001b[0m\u001b[0m\n\u001b[0m\u001b[1;32m      9\u001b[0m \u001b[0;34m\u001b[0m\u001b[0m\n\u001b[1;32m     10\u001b[0m \u001b[0mtorch\u001b[0m\u001b[0;34m.\u001b[0m\u001b[0msave\u001b[0m\u001b[0;34m(\u001b[0m\u001b[0mmodel\u001b[0m\u001b[0;34m.\u001b[0m\u001b[0mstate_dict\u001b[0m\u001b[0;34m(\u001b[0m\u001b[0;34m)\u001b[0m\u001b[0;34m,\u001b[0m \u001b[0;34m\"recent_after.pth\"\u001b[0m\u001b[0;34m)\u001b[0m\u001b[0;34m\u001b[0m\u001b[0;34m\u001b[0m\u001b[0m\n",
            "\u001b[0;32m<ipython-input-35-6abc31dfa9a3>\u001b[0m in \u001b[0;36mtrain\u001b[0;34m(model, train_dataloader, valid_dataloader, loss_fn, optimizer, device, num_epochs)\u001b[0m\n\u001b[1;32m      7\u001b[0m \u001b[0;34m\u001b[0m\u001b[0m\n\u001b[1;32m      8\u001b[0m     \u001b[0;32mfor\u001b[0m \u001b[0mepoch\u001b[0m \u001b[0;32min\u001b[0m \u001b[0mrange\u001b[0m\u001b[0;34m(\u001b[0m\u001b[0mnum_epochs\u001b[0m\u001b[0;34m)\u001b[0m\u001b[0;34m:\u001b[0m\u001b[0;34m\u001b[0m\u001b[0;34m\u001b[0m\u001b[0m\n\u001b[0;32m----> 9\u001b[0;31m         \u001b[0mtrain_loss\u001b[0m\u001b[0;34m,\u001b[0m \u001b[0mtrain_accuracy\u001b[0m \u001b[0;34m=\u001b[0m \u001b[0mstep\u001b[0m\u001b[0;34m(\u001b[0m\u001b[0mmodel\u001b[0m\u001b[0;34m,\u001b[0m \u001b[0mtrain_dataloader\u001b[0m\u001b[0;34m,\u001b[0m \u001b[0mloss_fn\u001b[0m\u001b[0;34m,\u001b[0m \u001b[0mdevice\u001b[0m\u001b[0;34m,\u001b[0m \u001b[0moptimizer\u001b[0m\u001b[0;34m=\u001b[0m\u001b[0moptimizer\u001b[0m\u001b[0;34m,\u001b[0m \u001b[0mis_train\u001b[0m\u001b[0;34m=\u001b[0m\u001b[0;32mTrue\u001b[0m\u001b[0;34m)\u001b[0m\u001b[0;34m\u001b[0m\u001b[0;34m\u001b[0m\u001b[0m\n\u001b[0m\u001b[1;32m     10\u001b[0m         \u001b[0mvalid_loss\u001b[0m\u001b[0;34m,\u001b[0m \u001b[0mvalid_accuracy\u001b[0m \u001b[0;34m=\u001b[0m \u001b[0mstep\u001b[0m\u001b[0;34m(\u001b[0m\u001b[0mmodel\u001b[0m\u001b[0;34m,\u001b[0m \u001b[0mvalid_dataloader\u001b[0m\u001b[0;34m,\u001b[0m \u001b[0mloss_fn\u001b[0m\u001b[0;34m,\u001b[0m \u001b[0mdevice\u001b[0m\u001b[0;34m,\u001b[0m \u001b[0mis_train\u001b[0m\u001b[0;34m=\u001b[0m\u001b[0;32mFalse\u001b[0m\u001b[0;34m)\u001b[0m\u001b[0;34m\u001b[0m\u001b[0;34m\u001b[0m\u001b[0m\n\u001b[1;32m     11\u001b[0m \u001b[0;34m\u001b[0m\u001b[0m\n",
            "\u001b[0;32m<ipython-input-17-813471e997b4>\u001b[0m in \u001b[0;36mstep\u001b[0;34m(model, dataloader, loss_fn, device, optimizer, is_train)\u001b[0m\n\u001b[1;32m     24\u001b[0m                 \u001b[0moptimizer\u001b[0m\u001b[0;34m.\u001b[0m\u001b[0mstep\u001b[0m\u001b[0;34m(\u001b[0m\u001b[0;34m)\u001b[0m\u001b[0;34m\u001b[0m\u001b[0;34m\u001b[0m\u001b[0m\n\u001b[1;32m     25\u001b[0m \u001b[0;34m\u001b[0m\u001b[0m\n\u001b[0;32m---> 26\u001b[0;31m         \u001b[0mrunning_loss\u001b[0m \u001b[0;34m+=\u001b[0m \u001b[0mloss\u001b[0m\u001b[0;34m.\u001b[0m\u001b[0mitem\u001b[0m\u001b[0;34m(\u001b[0m\u001b[0;34m)\u001b[0m\u001b[0;34m\u001b[0m\u001b[0;34m\u001b[0m\u001b[0m\n\u001b[0m\u001b[1;32m     27\u001b[0m \u001b[0;34m\u001b[0m\u001b[0m\n\u001b[1;32m     28\u001b[0m         \u001b[0mall_labels\u001b[0m\u001b[0;34m.\u001b[0m\u001b[0mextend\u001b[0m\u001b[0;34m(\u001b[0m\u001b[0mlabels\u001b[0m\u001b[0;34m.\u001b[0m\u001b[0mcpu\u001b[0m\u001b[0;34m(\u001b[0m\u001b[0;34m)\u001b[0m\u001b[0;34m.\u001b[0m\u001b[0mnumpy\u001b[0m\u001b[0;34m(\u001b[0m\u001b[0;34m)\u001b[0m\u001b[0;34m)\u001b[0m\u001b[0;34m\u001b[0m\u001b[0;34m\u001b[0m\u001b[0m\n",
            "\u001b[0;31mKeyboardInterrupt\u001b[0m: "
          ]
        }
      ],
      "source": [
        "# Unfreeze all layers\n",
        "for param in model.parameters():\n",
        "    param.requires_grad = True\n",
        "\n",
        "num_epochs = 50\n",
        "\n",
        "# Train the model\n",
        "train_losses, valid_losses, valid_accuracies = train(model, train_dataloader, valid_dataloader, loss_fn, optimizer, device, num_epochs)\n",
        "\n",
        "torch.save(model.state_dict(), \"recent_after.pth\")"
      ]
    },
    {
      "cell_type": "markdown",
      "metadata": {
        "id": "HPZLw5cfzREI"
      },
      "source": [
        "## Test the model\n",
        "\n",
        "Evaluate the model in the test set"
      ]
    },
    {
      "cell_type": "code",
      "execution_count": null,
      "metadata": {
        "colab": {
          "base_uri": "https://localhost:8080/",
          "height": 616
        },
        "id": "UtmFHipizREK",
        "outputId": "2b17c561-c4ed-4a02-a8fc-fa5c093b2b70"
      },
      "outputs": [
        {
          "name": "stderr",
          "output_type": "stream",
          "text": [
            "100%|██████████| 274/274 [01:53<00:00,  2.41it/s]\n"
          ]
        },
        {
          "name": "stdout",
          "output_type": "stream",
          "text": [
            "Test loss: 1.7966, test accuracy: 0.5073\n"
          ]
        },
        {
          "name": "stderr",
          "output_type": "stream",
          "text": [
            "100%|██████████| 274/274 [01:47<00:00,  2.55it/s]\n"
          ]
        },
        {
          "data": {
            "image/png": "[encoded data removed]",
            "text/plain": [
              "<Figure size 800x600 with 2 Axes>"
            ]
          },
          "metadata": {},
          "output_type": "display_data"
        }
      ],
      "source": [
        "# Load the best model\n",
        "#model.load_state_dict(torch.load(\"/content/recent_after.pth\"))\n",
        "\n",
        "# Evaluate model on test data\n",
        "test_result = step(model, test_dataloader, loss_fn, device, is_train=False)\n",
        "print(f\"Test Loss: {test_result.loss:.4f}, Accuracy: {test_result.accuracy:.4f}, Balanced Accuracy: {test_result.balanced_accuracy:.4f}, Precision: {test_result.precision:.4f}, Recall: {test_result.recall:.4f}, F1: {test_result.f1:.4f}\")\n",
        "\n",
        "# Confusion matrix\n",
        "from sklearn.metrics import confusion_matrix\n",
        "import seaborn as sns\n",
        "\n",
        "all_labels = []\n",
        "all_predictions = []\n",
        "\n",
        "for images, labels in tqdm(test_dataloader):\n",
        "    images = images.to(device)\n",
        "    labels = labels.to(device)\n",
        "\n",
        "    with torch.no_grad():\n",
        "        outputs = model(images)\n",
        "\n",
        "    all_labels.extend(labels.cpu().numpy())\n",
        "    all_predictions.extend(outputs.argmax(dim=1).cpu().numpy())\n",
        "\n",
        "cm = confusion_matrix(all_labels, all_predictions)\n",
        "plt.figure(figsize=(8, 6))\n",
        "sns.heatmap(cm, annot=True, fmt=\"d\", cmap=\"Blues\", xticklabels=range(1, len(cm) + 1), yticklabels=range(1, len(cm) + 1))\n",
        "plt.xlabel(\"Predicted\")\n",
        "plt.ylabel(\"Actual\")\n",
        "plt.title(\"Confusion Matrix\")\n",
        "plt.show()"
      ]
    },
    {
      "cell_type": "markdown",
      "metadata": {
        "id": "Oq-C6glKseuO"
      },
      "source": [
        "## Challenge\n",
        "\n",
        "In transfer learning, we often replace the head of the model (fully-connected layers responsible for classification) to fit the task. However, these new layers are not pre-trained and thus they contain an error that is backpropagated through the pre-trained part of the network during training. We can avoid this through a training strategy that is divided into two steps:\n",
        "* Freeze the pre-trained layers of the network so that their parameters are no longer updated during training and train only the head of the model\n",
        "* Unfreeze these layers and train the network as a whole.\n",
        "\n",
        "Implement this strategy and see the results!"
      ]
    }
  ],
  "metadata": {
    "accelerator": "GPU",
    "colab": {
      "gpuType": "T4",
      "provenance": []
    },
    "kernelspec": {
      "display_name": "Python 3",
      "name": "python3"
    },
    "language_info": {
      "codemirror_mode": {
        "name": "ipython",
        "version": 3
      },
      "file_extension": ".py",
      "mimetype": "text/x-python",
      "name": "python",
      "nbconvert_exporter": "python",
      "pygments_lexer": "ipython3",
      "version": "3.10.12"
    }
  },
  "nbformat": 4,
  "nbformat_minor": 0
}
